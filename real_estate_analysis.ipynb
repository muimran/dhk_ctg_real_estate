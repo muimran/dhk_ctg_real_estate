{
 "cells": [
  {
   "cell_type": "code",
   "execution_count": 53,
   "id": "5b955566",
   "metadata": {},
   "outputs": [],
   "source": [
    "import pandas as pd\n",
    "import numpy as np\n",
    "import matplotlib.pyplot as plt\n",
    "import seaborn as sns"
   ]
  },
  {
   "cell_type": "code",
   "execution_count": 54,
   "id": "d0cf9ce8",
   "metadata": {},
   "outputs": [
    {
     "data": {
      "text/html": [
       "<div>\n",
       "<style scoped>\n",
       "    .dataframe tbody tr th:only-of-type {\n",
       "        vertical-align: middle;\n",
       "    }\n",
       "\n",
       "    .dataframe tbody tr th {\n",
       "        vertical-align: top;\n",
       "    }\n",
       "\n",
       "    .dataframe thead th {\n",
       "        text-align: right;\n",
       "    }\n",
       "</style>\n",
       "<table border=\"1\" class=\"dataframe\">\n",
       "  <thead>\n",
       "    <tr style=\"text-align: right;\">\n",
       "      <th></th>\n",
       "      <th>price</th>\n",
       "      <th>address</th>\n",
       "      <th>type</th>\n",
       "      <th>bed</th>\n",
       "      <th>bath</th>\n",
       "      <th>size</th>\n",
       "      <th>district</th>\n",
       "    </tr>\n",
       "  </thead>\n",
       "  <tbody>\n",
       "    <tr>\n",
       "      <th>0</th>\n",
       "      <td>26000000.0</td>\n",
       "      <td>Block H Bashundhara R-A Dhaka</td>\n",
       "      <td>Duplex</td>\n",
       "      <td>5</td>\n",
       "      <td>4</td>\n",
       "      <td>3100</td>\n",
       "      <td>Dhaka</td>\n",
       "    </tr>\n",
       "    <tr>\n",
       "      <th>1</th>\n",
       "      <td>80000000.0</td>\n",
       "      <td>Gulshan 1 Gulshan Dhaka</td>\n",
       "      <td>Duplex</td>\n",
       "      <td>4</td>\n",
       "      <td>5</td>\n",
       "      <td>4662</td>\n",
       "      <td>Dhaka</td>\n",
       "    </tr>\n",
       "    <tr>\n",
       "      <th>2</th>\n",
       "      <td>29000000.0</td>\n",
       "      <td>Baridhara DOHS Dhaka</td>\n",
       "      <td>Duplex</td>\n",
       "      <td>4</td>\n",
       "      <td>5</td>\n",
       "      <td>2530</td>\n",
       "      <td>Dhaka</td>\n",
       "    </tr>\n",
       "    <tr>\n",
       "      <th>3</th>\n",
       "      <td>11200000.0</td>\n",
       "      <td>Wari Sutrapur Dhaka</td>\n",
       "      <td>Duplex</td>\n",
       "      <td>3</td>\n",
       "      <td>3</td>\n",
       "      <td>1322</td>\n",
       "      <td>Dhaka</td>\n",
       "    </tr>\n",
       "    <tr>\n",
       "      <th>4</th>\n",
       "      <td>33500000.0</td>\n",
       "      <td>Aruna Polli Ashulia Savar Dhaka</td>\n",
       "      <td>Duplex</td>\n",
       "      <td>5</td>\n",
       "      <td>6</td>\n",
       "      <td>9464</td>\n",
       "      <td>Dhaka</td>\n",
       "    </tr>\n",
       "  </tbody>\n",
       "</table>\n",
       "</div>"
      ],
      "text/plain": [
       "        price                          address    type  bed  bath  size  \\\n",
       "0  26000000.0    Block H Bashundhara R-A Dhaka  Duplex    5     4  3100   \n",
       "1  80000000.0          Gulshan 1 Gulshan Dhaka  Duplex    4     5  4662   \n",
       "2  29000000.0             Baridhara DOHS Dhaka  Duplex    4     5  2530   \n",
       "3  11200000.0              Wari Sutrapur Dhaka  Duplex    3     3  1322   \n",
       "4  33500000.0  Aruna Polli Ashulia Savar Dhaka  Duplex    5     6  9464   \n",
       "\n",
       "  district  \n",
       "0    Dhaka  \n",
       "1    Dhaka  \n",
       "2    Dhaka  \n",
       "3    Dhaka  \n",
       "4    Dhaka  "
      ]
     },
     "execution_count": 54,
     "metadata": {},
     "output_type": "execute_result"
    }
   ],
   "source": [
    "df = pd.read_excel(\"propert_prices.xlsx\")\n",
    "df.head()"
   ]
  },
  {
   "cell_type": "code",
   "execution_count": 55,
   "id": "1819d494",
   "metadata": {},
   "outputs": [
    {
     "data": {
      "text/html": [
       "<div>\n",
       "<style scoped>\n",
       "    .dataframe tbody tr th:only-of-type {\n",
       "        vertical-align: middle;\n",
       "    }\n",
       "\n",
       "    .dataframe tbody tr th {\n",
       "        vertical-align: top;\n",
       "    }\n",
       "\n",
       "    .dataframe thead th {\n",
       "        text-align: right;\n",
       "    }\n",
       "</style>\n",
       "<table border=\"1\" class=\"dataframe\">\n",
       "  <thead>\n",
       "    <tr style=\"text-align: right;\">\n",
       "      <th></th>\n",
       "      <th>price</th>\n",
       "      <th>address</th>\n",
       "      <th>type</th>\n",
       "      <th>bed</th>\n",
       "      <th>bath</th>\n",
       "      <th>size</th>\n",
       "      <th>district</th>\n",
       "      <th>ppsf</th>\n",
       "    </tr>\n",
       "  </thead>\n",
       "  <tbody>\n",
       "    <tr>\n",
       "      <th>0</th>\n",
       "      <td>26000000.0</td>\n",
       "      <td>Block H Bashundhara R-A Dhaka</td>\n",
       "      <td>Duplex</td>\n",
       "      <td>5</td>\n",
       "      <td>4</td>\n",
       "      <td>3100</td>\n",
       "      <td>Dhaka</td>\n",
       "      <td>8387.096774</td>\n",
       "    </tr>\n",
       "    <tr>\n",
       "      <th>1</th>\n",
       "      <td>80000000.0</td>\n",
       "      <td>Gulshan 1 Gulshan Dhaka</td>\n",
       "      <td>Duplex</td>\n",
       "      <td>4</td>\n",
       "      <td>5</td>\n",
       "      <td>4662</td>\n",
       "      <td>Dhaka</td>\n",
       "      <td>17160.017160</td>\n",
       "    </tr>\n",
       "    <tr>\n",
       "      <th>2</th>\n",
       "      <td>29000000.0</td>\n",
       "      <td>Baridhara DOHS Dhaka</td>\n",
       "      <td>Duplex</td>\n",
       "      <td>4</td>\n",
       "      <td>5</td>\n",
       "      <td>2530</td>\n",
       "      <td>Dhaka</td>\n",
       "      <td>11462.450593</td>\n",
       "    </tr>\n",
       "    <tr>\n",
       "      <th>3</th>\n",
       "      <td>11200000.0</td>\n",
       "      <td>Wari Sutrapur Dhaka</td>\n",
       "      <td>Duplex</td>\n",
       "      <td>3</td>\n",
       "      <td>3</td>\n",
       "      <td>1322</td>\n",
       "      <td>Dhaka</td>\n",
       "      <td>8472.012103</td>\n",
       "    </tr>\n",
       "    <tr>\n",
       "      <th>4</th>\n",
       "      <td>33500000.0</td>\n",
       "      <td>Aruna Polli Ashulia Savar Dhaka</td>\n",
       "      <td>Duplex</td>\n",
       "      <td>5</td>\n",
       "      <td>6</td>\n",
       "      <td>9464</td>\n",
       "      <td>Dhaka</td>\n",
       "      <td>3539.729501</td>\n",
       "    </tr>\n",
       "    <tr>\n",
       "      <th>...</th>\n",
       "      <td>...</td>\n",
       "      <td>...</td>\n",
       "      <td>...</td>\n",
       "      <td>...</td>\n",
       "      <td>...</td>\n",
       "      <td>...</td>\n",
       "      <td>...</td>\n",
       "      <td>...</td>\n",
       "    </tr>\n",
       "    <tr>\n",
       "      <th>10840</th>\n",
       "      <td>7200000.0</td>\n",
       "      <td>Road No 1, Block H, Halishahar Housing Estate,...</td>\n",
       "      <td>Apartment</td>\n",
       "      <td>3</td>\n",
       "      <td>3</td>\n",
       "      <td>1552</td>\n",
       "      <td>Chattogram</td>\n",
       "      <td>4639.175258</td>\n",
       "    </tr>\n",
       "    <tr>\n",
       "      <th>10841</th>\n",
       "      <td>3600000.0</td>\n",
       "      <td>Shantibag Residential Area, 24 No. North Agrab...</td>\n",
       "      <td>Apartment</td>\n",
       "      <td>2</td>\n",
       "      <td>2</td>\n",
       "      <td>1000</td>\n",
       "      <td>Chattogram</td>\n",
       "      <td>3600.000000</td>\n",
       "    </tr>\n",
       "    <tr>\n",
       "      <th>10842</th>\n",
       "      <td>6000000.0</td>\n",
       "      <td>Chandrima, Chandgaon Residential Area, 4 No Ch...</td>\n",
       "      <td>Apartment</td>\n",
       "      <td>3</td>\n",
       "      <td>3</td>\n",
       "      <td>1215</td>\n",
       "      <td>Chattogram</td>\n",
       "      <td>4938.271605</td>\n",
       "    </tr>\n",
       "    <tr>\n",
       "      <th>10843</th>\n",
       "      <td>7200000.0</td>\n",
       "      <td>Chattogram DOHS, Bayazid, Chattogram</td>\n",
       "      <td>Apartment</td>\n",
       "      <td>3</td>\n",
       "      <td>4</td>\n",
       "      <td>1350</td>\n",
       "      <td>Chattogram</td>\n",
       "      <td>5333.333333</td>\n",
       "    </tr>\n",
       "    <tr>\n",
       "      <th>10844</th>\n",
       "      <td>7000000.0</td>\n",
       "      <td>Lake Valley R/A, 9 No. North Pahartali Ward, C...</td>\n",
       "      <td>Apartment</td>\n",
       "      <td>3</td>\n",
       "      <td>3</td>\n",
       "      <td>1400</td>\n",
       "      <td>Chattogram</td>\n",
       "      <td>5000.000000</td>\n",
       "    </tr>\n",
       "  </tbody>\n",
       "</table>\n",
       "<p>10845 rows × 8 columns</p>\n",
       "</div>"
      ],
      "text/plain": [
       "            price                                            address  \\\n",
       "0      26000000.0                      Block H Bashundhara R-A Dhaka   \n",
       "1      80000000.0                            Gulshan 1 Gulshan Dhaka   \n",
       "2      29000000.0                               Baridhara DOHS Dhaka   \n",
       "3      11200000.0                                Wari Sutrapur Dhaka   \n",
       "4      33500000.0                    Aruna Polli Ashulia Savar Dhaka   \n",
       "...           ...                                                ...   \n",
       "10840   7200000.0  Road No 1, Block H, Halishahar Housing Estate,...   \n",
       "10841   3600000.0  Shantibag Residential Area, 24 No. North Agrab...   \n",
       "10842   6000000.0  Chandrima, Chandgaon Residential Area, 4 No Ch...   \n",
       "10843   7200000.0               Chattogram DOHS, Bayazid, Chattogram   \n",
       "10844   7000000.0  Lake Valley R/A, 9 No. North Pahartali Ward, C...   \n",
       "\n",
       "            type  bed  bath  size    district          ppsf  \n",
       "0         Duplex    5     4  3100       Dhaka   8387.096774  \n",
       "1         Duplex    4     5  4662       Dhaka  17160.017160  \n",
       "2         Duplex    4     5  2530       Dhaka  11462.450593  \n",
       "3         Duplex    3     3  1322       Dhaka   8472.012103  \n",
       "4         Duplex    5     6  9464       Dhaka   3539.729501  \n",
       "...          ...  ...   ...   ...         ...           ...  \n",
       "10840  Apartment    3     3  1552  Chattogram   4639.175258  \n",
       "10841  Apartment    2     2  1000  Chattogram   3600.000000  \n",
       "10842  Apartment    3     3  1215  Chattogram   4938.271605  \n",
       "10843  Apartment    3     4  1350  Chattogram   5333.333333  \n",
       "10844  Apartment    3     3  1400  Chattogram   5000.000000  \n",
       "\n",
       "[10845 rows x 8 columns]"
      ]
     },
     "execution_count": 55,
     "metadata": {},
     "output_type": "execute_result"
    }
   ],
   "source": [
    "df ['ppsf'] = df['price']/df['size']\n",
    "df"
   ]
  },
  {
   "cell_type": "code",
   "execution_count": 56,
   "id": "3b01b4b4",
   "metadata": {},
   "outputs": [],
   "source": [
    "mask1 = df['district'] == 'Dhaka'\n",
    "mask2 = df['type'] == ('Apartment', 'Duplex')\n",
    "\n",
    "df_apt = df[(mask1 & mask2)]"
   ]
  },
  {
   "cell_type": "code",
   "execution_count": 57,
   "id": "827697dc",
   "metadata": {},
   "outputs": [
    {
     "data": {
      "text/plain": [
       "nan"
      ]
     },
     "execution_count": 57,
     "metadata": {},
     "output_type": "execute_result"
    }
   ],
   "source": [
    "df_apt['ppsf'].max()"
   ]
  },
  {
   "cell_type": "code",
   "execution_count": 58,
   "id": "4aa5a59f",
   "metadata": {},
   "outputs": [
    {
     "data": {
      "text/html": [
       "<div>\n",
       "<style scoped>\n",
       "    .dataframe tbody tr th:only-of-type {\n",
       "        vertical-align: middle;\n",
       "    }\n",
       "\n",
       "    .dataframe tbody tr th {\n",
       "        vertical-align: top;\n",
       "    }\n",
       "\n",
       "    .dataframe thead th {\n",
       "        text-align: right;\n",
       "    }\n",
       "</style>\n",
       "<table border=\"1\" class=\"dataframe\">\n",
       "  <thead>\n",
       "    <tr style=\"text-align: right;\">\n",
       "      <th></th>\n",
       "      <th>price</th>\n",
       "      <th>address</th>\n",
       "      <th>type</th>\n",
       "      <th>bed</th>\n",
       "      <th>bath</th>\n",
       "      <th>size</th>\n",
       "      <th>district</th>\n",
       "      <th>ppsf</th>\n",
       "    </tr>\n",
       "  </thead>\n",
       "  <tbody>\n",
       "  </tbody>\n",
       "</table>\n",
       "</div>"
      ],
      "text/plain": [
       "Empty DataFrame\n",
       "Columns: [price, address, type, bed, bath, size, district, ppsf]\n",
       "Index: []"
      ]
     },
     "execution_count": 58,
     "metadata": {},
     "output_type": "execute_result"
    }
   ],
   "source": [
    "df_apt"
   ]
  },
  {
   "cell_type": "code",
   "execution_count": 24,
   "id": "001a0dea",
   "metadata": {},
   "outputs": [],
   "source": [
    "df_apt_mirpur = df_apt[df_apt['address'].str.contains(\"Mirpur\")]\n",
    "df_apt_gulshan = df_apt[df_apt['address'].str.contains(\"Gulshan\")]\n",
    "df_apt_uttara = df_apt[df_apt['address'].str.contains(\"Uttara\")]\n",
    "df_apt_dhanmondi = df_apt[df_apt['address'].str.contains(\"Dhanmondi\")]\n",
    "df_apt_banani = df_apt[df_apt['address'].str.contains(\"Banani\")]\n",
    "df_apt_cantonment = df_apt[df_apt['address'].str.contains(\"Cantonment\")]\n",
    "df_apt_wari = df_apt[df_apt['address'].str.contains(\"Wari\")]\n",
    "df_apt_bashundhara_ra = df_apt[df_apt['address'].str.contains(\"Bashundhara R-A\")]\n",
    "df_apt_mohammadpur = df_apt[df_apt['address'].str.contains(\"Mohammadpur\")]\n",
    "df_apt_adabor = df_apt[df_apt['address'].str.contains(\"Adabor\")]\n",
    "df_apt_banasree = df_apt[df_apt['address'].str.contains(\"Banasree\")]\n",
    "df_apt_badda = df_apt[df_apt['address'].str.contains(\"Badda\")]\n",
    "df_apt_savar = df_apt[df_apt['address'].str.contains(\"Savar\")]"
   ]
  },
  {
   "cell_type": "code",
   "execution_count": 25,
   "id": "1b9d2cb0",
   "metadata": {},
   "outputs": [
    {
     "data": {
      "text/html": [
       "<div>\n",
       "<style scoped>\n",
       "    .dataframe tbody tr th:only-of-type {\n",
       "        vertical-align: middle;\n",
       "    }\n",
       "\n",
       "    .dataframe tbody tr th {\n",
       "        vertical-align: top;\n",
       "    }\n",
       "\n",
       "    .dataframe thead th {\n",
       "        text-align: right;\n",
       "    }\n",
       "</style>\n",
       "<table border=\"1\" class=\"dataframe\">\n",
       "  <thead>\n",
       "    <tr style=\"text-align: right;\">\n",
       "      <th></th>\n",
       "      <th>price</th>\n",
       "      <th>address</th>\n",
       "      <th>type</th>\n",
       "      <th>bed</th>\n",
       "      <th>bath</th>\n",
       "      <th>size</th>\n",
       "      <th>district</th>\n",
       "      <th>ppsf</th>\n",
       "    </tr>\n",
       "  </thead>\n",
       "  <tbody>\n",
       "    <tr>\n",
       "      <th>1261</th>\n",
       "      <td>11000000.0</td>\n",
       "      <td>Matikata Cantonment Dhaka</td>\n",
       "      <td>Apartment</td>\n",
       "      <td>4</td>\n",
       "      <td>3</td>\n",
       "      <td>1900</td>\n",
       "      <td>Dhaka</td>\n",
       "      <td>5789.473684</td>\n",
       "    </tr>\n",
       "    <tr>\n",
       "      <th>1517</th>\n",
       "      <td>53600000.0</td>\n",
       "      <td>Cantonment Dhaka</td>\n",
       "      <td>Apartment</td>\n",
       "      <td>4</td>\n",
       "      <td>5</td>\n",
       "      <td>2975</td>\n",
       "      <td>Dhaka</td>\n",
       "      <td>18016.806723</td>\n",
       "    </tr>\n",
       "    <tr>\n",
       "      <th>2039</th>\n",
       "      <td>19000000.0</td>\n",
       "      <td>Matikata Cantonment Dhaka</td>\n",
       "      <td>Apartment</td>\n",
       "      <td>4</td>\n",
       "      <td>4</td>\n",
       "      <td>2820</td>\n",
       "      <td>Dhaka</td>\n",
       "      <td>6737.588652</td>\n",
       "    </tr>\n",
       "    <tr>\n",
       "      <th>2452</th>\n",
       "      <td>27400000.0</td>\n",
       "      <td>Cantonment Dhaka</td>\n",
       "      <td>Apartment</td>\n",
       "      <td>4</td>\n",
       "      <td>4</td>\n",
       "      <td>2200</td>\n",
       "      <td>Dhaka</td>\n",
       "      <td>12454.545455</td>\n",
       "    </tr>\n",
       "    <tr>\n",
       "      <th>2516</th>\n",
       "      <td>12000000.0</td>\n",
       "      <td>Cantonment Dhaka</td>\n",
       "      <td>Apartment</td>\n",
       "      <td>3</td>\n",
       "      <td>4</td>\n",
       "      <td>1700</td>\n",
       "      <td>Dhaka</td>\n",
       "      <td>7058.823529</td>\n",
       "    </tr>\n",
       "    <tr>\n",
       "      <th>...</th>\n",
       "      <td>...</td>\n",
       "      <td>...</td>\n",
       "      <td>...</td>\n",
       "      <td>...</td>\n",
       "      <td>...</td>\n",
       "      <td>...</td>\n",
       "      <td>...</td>\n",
       "      <td>...</td>\n",
       "    </tr>\n",
       "    <tr>\n",
       "      <th>8608</th>\n",
       "      <td>5712000.0</td>\n",
       "      <td>South Manikdi Manikdi Cantonment Dhaka</td>\n",
       "      <td>Apartment</td>\n",
       "      <td>3</td>\n",
       "      <td>3</td>\n",
       "      <td>1190</td>\n",
       "      <td>Dhaka</td>\n",
       "      <td>4800.000000</td>\n",
       "    </tr>\n",
       "    <tr>\n",
       "      <th>8618</th>\n",
       "      <td>5760000.0</td>\n",
       "      <td>South Manikdi Manikdi Cantonment Dhaka</td>\n",
       "      <td>Apartment</td>\n",
       "      <td>3</td>\n",
       "      <td>3</td>\n",
       "      <td>1200</td>\n",
       "      <td>Dhaka</td>\n",
       "      <td>4800.000000</td>\n",
       "    </tr>\n",
       "    <tr>\n",
       "      <th>8619</th>\n",
       "      <td>5712000.0</td>\n",
       "      <td>South Manikdi Manikdi Cantonment Dhaka</td>\n",
       "      <td>Apartment</td>\n",
       "      <td>3</td>\n",
       "      <td>3</td>\n",
       "      <td>1190</td>\n",
       "      <td>Dhaka</td>\n",
       "      <td>4800.000000</td>\n",
       "    </tr>\n",
       "    <tr>\n",
       "      <th>8722</th>\n",
       "      <td>6965000.0</td>\n",
       "      <td>Matikata Cantonment Dhaka</td>\n",
       "      <td>Apartment</td>\n",
       "      <td>3</td>\n",
       "      <td>4</td>\n",
       "      <td>1370</td>\n",
       "      <td>Dhaka</td>\n",
       "      <td>5083.941606</td>\n",
       "    </tr>\n",
       "    <tr>\n",
       "      <th>8796</th>\n",
       "      <td>5000000.0</td>\n",
       "      <td>Goltek Cantonment Dhaka</td>\n",
       "      <td>Apartment</td>\n",
       "      <td>3</td>\n",
       "      <td>3</td>\n",
       "      <td>1234</td>\n",
       "      <td>Dhaka</td>\n",
       "      <td>4051.863857</td>\n",
       "    </tr>\n",
       "  </tbody>\n",
       "</table>\n",
       "<p>167 rows × 8 columns</p>\n",
       "</div>"
      ],
      "text/plain": [
       "           price                                 address       type  bed  \\\n",
       "1261  11000000.0               Matikata Cantonment Dhaka  Apartment    4   \n",
       "1517  53600000.0                        Cantonment Dhaka  Apartment    4   \n",
       "2039  19000000.0               Matikata Cantonment Dhaka  Apartment    4   \n",
       "2452  27400000.0                        Cantonment Dhaka  Apartment    4   \n",
       "2516  12000000.0                        Cantonment Dhaka  Apartment    3   \n",
       "...          ...                                     ...        ...  ...   \n",
       "8608   5712000.0  South Manikdi Manikdi Cantonment Dhaka  Apartment    3   \n",
       "8618   5760000.0  South Manikdi Manikdi Cantonment Dhaka  Apartment    3   \n",
       "8619   5712000.0  South Manikdi Manikdi Cantonment Dhaka  Apartment    3   \n",
       "8722   6965000.0               Matikata Cantonment Dhaka  Apartment    3   \n",
       "8796   5000000.0                 Goltek Cantonment Dhaka  Apartment    3   \n",
       "\n",
       "      bath  size district          ppsf  \n",
       "1261     3  1900    Dhaka   5789.473684  \n",
       "1517     5  2975    Dhaka  18016.806723  \n",
       "2039     4  2820    Dhaka   6737.588652  \n",
       "2452     4  2200    Dhaka  12454.545455  \n",
       "2516     4  1700    Dhaka   7058.823529  \n",
       "...    ...   ...      ...           ...  \n",
       "8608     3  1190    Dhaka   4800.000000  \n",
       "8618     3  1200    Dhaka   4800.000000  \n",
       "8619     3  1190    Dhaka   4800.000000  \n",
       "8722     4  1370    Dhaka   5083.941606  \n",
       "8796     3  1234    Dhaka   4051.863857  \n",
       "\n",
       "[167 rows x 8 columns]"
      ]
     },
     "execution_count": 25,
     "metadata": {},
     "output_type": "execute_result"
    }
   ],
   "source": [
    "df_apt_cantonment"
   ]
  },
  {
   "cell_type": "code",
   "execution_count": 28,
   "id": "ab38e91f",
   "metadata": {},
   "outputs": [
    {
     "name": "stdout",
     "output_type": "stream",
     "text": [
      "MIRPUR\n",
      "mean:\n",
      "5349.869312402724\n",
      "median:\n",
      "5185.185185185185\n",
      "11981.566820276497\n"
     ]
    }
   ],
   "source": [
    "print('MIRPUR')\n",
    "print('mean:')\n",
    "print(df_apt_mirpur['ppsf'].mean())\n",
    "print('median:')\n",
    "print(df_apt_mirpur['ppsf'].median())\n",
    "print(df_apt_mirpur['ppsf'].max())"
   ]
  },
  {
   "cell_type": "code",
   "execution_count": 29,
   "id": "d4a32980",
   "metadata": {},
   "outputs": [
    {
     "name": "stdout",
     "output_type": "stream",
     "text": [
      "GULSHAN\n",
      "mean:\n",
      "16080.54694434045\n",
      "median:\n",
      "15445.544554455446\n",
      "28063.610851262863\n"
     ]
    }
   ],
   "source": [
    "print('GULSHAN')\n",
    "print('mean:')\n",
    "print(df_apt_gulshan['ppsf'].mean())\n",
    "print('median:')\n",
    "print(df_apt_gulshan['ppsf'].median())\n",
    "print(df_apt_gulshan['ppsf'].max())"
   ]
  },
  {
   "cell_type": "code",
   "execution_count": 30,
   "id": "763a7d4e",
   "metadata": {},
   "outputs": [
    {
     "name": "stdout",
     "output_type": "stream",
     "text": [
      "UTTARA\n",
      "mean:\n",
      "7486.929969854959\n",
      "median:\n",
      "7074.7133410180195\n",
      "18285.249898415277\n"
     ]
    }
   ],
   "source": [
    "print('UTTARA')\n",
    "print('mean:')\n",
    "print(df_apt_uttara['ppsf'].mean())\n",
    "print('median:')\n",
    "print(df_apt_uttara['ppsf'].median())\n",
    "print(df_apt_uttara['ppsf'].max())"
   ]
  },
  {
   "cell_type": "code",
   "execution_count": 39,
   "id": "6f8255cb",
   "metadata": {},
   "outputs": [
    {
     "name": "stdout",
     "output_type": "stream",
     "text": [
      "DHANMONDI\n",
      "mean:\n",
      "10227.220766187846\n",
      "median:\n",
      "8823.529411764706\n",
      "20143.3936497098\n",
      "59000000.0\n"
     ]
    }
   ],
   "source": [
    "print('DHANMONDI')\n",
    "print('mean:')\n",
    "print(df_apt_dhanmondi['ppsf'].mean())\n",
    "print('median:')\n",
    "print(df_apt_dhanmondi['ppsf'].median())\n",
    "print(df_apt_dhanmondi['ppsf'].max())\n",
    "print(df_apt_dhanmondi['price'].max())"
   ]
  },
  {
   "cell_type": "code",
   "execution_count": 62,
   "id": "df0ff1fc",
   "metadata": {
    "scrolled": true
   },
   "outputs": [
    {
     "name": "stdout",
     "output_type": "stream",
     "text": [
      "BANANI\n",
      "mean:\n",
      "14515.688844917953\n",
      "median:\n",
      "13725.490196078432\n"
     ]
    }
   ],
   "source": [
    "print('BANANI')\n",
    "print('mean:')\n",
    "print(df_apt_banani['ppsf'].mean())\n",
    "print('median:')\n",
    "print(df_apt_banani['ppsf'].median())"
   ]
  },
  {
   "cell_type": "code",
   "execution_count": 63,
   "id": "7234266c",
   "metadata": {},
   "outputs": [
    {
     "name": "stdout",
     "output_type": "stream",
     "text": [
      "CANTONMENT\n",
      "mean:\n",
      "4936.076182004387\n",
      "median:\n",
      "4631.578947368421\n"
     ]
    }
   ],
   "source": [
    "print('CANTONMENT')\n",
    "print('mean:')\n",
    "print(df_apt_cantonment['ppsf'].mean())\n",
    "print('median:')\n",
    "print(df_apt_cantonment['ppsf'].median())"
   ]
  },
  {
   "cell_type": "code",
   "execution_count": 64,
   "id": "c6d16d1a",
   "metadata": {},
   "outputs": [
    {
     "name": "stdout",
     "output_type": "stream",
     "text": [
      "WARI\n",
      "mean:\n",
      "7372.858626447452\n",
      "median:\n",
      "7250.0\n"
     ]
    }
   ],
   "source": [
    "print('WARI')\n",
    "print('mean:')\n",
    "print(df_apt_wari['ppsf'].mean())\n",
    "print('median:')\n",
    "print(df_apt_wari['ppsf'].median())"
   ]
  },
  {
   "cell_type": "code",
   "execution_count": 65,
   "id": "853175d5",
   "metadata": {},
   "outputs": [
    {
     "name": "stdout",
     "output_type": "stream",
     "text": [
      "Bashundhara R-A\n",
      "mean:\n",
      "8076.94306200304\n",
      "median:\n",
      "7836.990595611285\n"
     ]
    }
   ],
   "source": [
    "print('BASHUNDHARA R-A')\n",
    "print('mean:')\n",
    "print(df_apt_bashundhara_ra['ppsf'].mean())\n",
    "print('median:')\n",
    "print(df_apt_bashundhara_ra['ppsf'].median())"
   ]
  },
  {
   "cell_type": "code",
   "execution_count": 66,
   "id": "a00697ae",
   "metadata": {},
   "outputs": [
    {
     "name": "stdout",
     "output_type": "stream",
     "text": [
      "Mohammadpur\n",
      "mean:\n",
      "5465.596515113493\n",
      "median:\n",
      "4875.0\n"
     ]
    }
   ],
   "source": [
    "print('MOHAMMADPUR')\n",
    "print('mean:')\n",
    "print(df_apt_mohammadpur['ppsf'].mean())\n",
    "print('median:')\n",
    "print(df_apt_mohammadpur['ppsf'].median())"
   ]
  },
  {
   "cell_type": "code",
   "execution_count": 67,
   "id": "942a6f15",
   "metadata": {},
   "outputs": [
    {
     "name": "stdout",
     "output_type": "stream",
     "text": [
      "ADABOR\n",
      "mean:\n",
      "6127.909914762089\n",
      "median:\n",
      "6003.533568904593\n"
     ]
    }
   ],
   "source": [
    "print('ADABOR')\n",
    "print('mean:')\n",
    "print(df_apt_adabor['ppsf'].mean())\n",
    "print('median:')\n",
    "print(df_apt_adabor['ppsf'].median())"
   ]
  },
  {
   "cell_type": "code",
   "execution_count": 68,
   "id": "220c1b0e",
   "metadata": {},
   "outputs": [
    {
     "name": "stdout",
     "output_type": "stream",
     "text": [
      "BANASREE\n",
      "mean:\n",
      "6315.7763238837015\n",
      "median:\n",
      "6315.789473684211\n"
     ]
    }
   ],
   "source": [
    "print('BANASREE')\n",
    "print('mean:')\n",
    "print(df_apt_banasree['ppsf'].mean())\n",
    "print('median:')\n",
    "print(df_apt_banasree['ppsf'].median())"
   ]
  },
  {
   "cell_type": "code",
   "execution_count": 69,
   "id": "801354d4",
   "metadata": {},
   "outputs": [
    {
     "name": "stdout",
     "output_type": "stream",
     "text": [
      "BADDA\n",
      "mean:\n",
      "6028.65193574215\n",
      "median:\n",
      "5502.645502645502\n"
     ]
    }
   ],
   "source": [
    "print('BADDA')\n",
    "print('mean:')\n",
    "print(df_apt_badda['ppsf'].mean())\n",
    "print('median:')\n",
    "print(df_apt_badda['ppsf'].median())"
   ]
  },
  {
   "cell_type": "code",
   "execution_count": 14,
   "id": "37fdb337",
   "metadata": {},
   "outputs": [
    {
     "name": "stdout",
     "output_type": "stream",
     "text": [
      "SAVAR\n",
      "mean:\n",
      "3580.792531308594\n",
      "median:\n",
      "3333.3333333333335\n"
     ]
    }
   ],
   "source": [
    "print('SAVAR')\n",
    "print('mean:')\n",
    "print(df_apt_savar['ppsf'].mean())\n",
    "print('median:')\n",
    "print(df_apt_savar['ppsf'].median())"
   ]
  },
  {
   "cell_type": "code",
   "execution_count": 70,
   "id": "a848db0b",
   "metadata": {},
   "outputs": [],
   "source": [
    "mask3 = df['district'] == 'Chattogram'\n",
    "mask4 = df['type'] == 'Apartment'\n",
    "\n",
    "df_apt_ctg = df[(mask3 & mask4)]"
   ]
  },
  {
   "cell_type": "code",
   "execution_count": 71,
   "id": "dbbf64a2",
   "metadata": {},
   "outputs": [
    {
     "data": {
      "text/html": [
       "<div>\n",
       "<style scoped>\n",
       "    .dataframe tbody tr th:only-of-type {\n",
       "        vertical-align: middle;\n",
       "    }\n",
       "\n",
       "    .dataframe tbody tr th {\n",
       "        vertical-align: top;\n",
       "    }\n",
       "\n",
       "    .dataframe thead th {\n",
       "        text-align: right;\n",
       "    }\n",
       "</style>\n",
       "<table border=\"1\" class=\"dataframe\">\n",
       "  <thead>\n",
       "    <tr style=\"text-align: right;\">\n",
       "      <th></th>\n",
       "      <th>price</th>\n",
       "      <th>address</th>\n",
       "      <th>type</th>\n",
       "      <th>bed</th>\n",
       "      <th>bath</th>\n",
       "      <th>size</th>\n",
       "      <th>district</th>\n",
       "      <th>ppsf</th>\n",
       "    </tr>\n",
       "  </thead>\n",
       "  <tbody>\n",
       "    <tr>\n",
       "      <th>9517</th>\n",
       "      <td>13200000.0</td>\n",
       "      <td>Nasirabad Housing Society, Muradpur, Chattogram</td>\n",
       "      <td>Apartment</td>\n",
       "      <td>3</td>\n",
       "      <td>4</td>\n",
       "      <td>1800</td>\n",
       "      <td>Chattogram</td>\n",
       "      <td>7333.333333</td>\n",
       "    </tr>\n",
       "    <tr>\n",
       "      <th>9518</th>\n",
       "      <td>15000000.0</td>\n",
       "      <td>Khulshi Hill R/A, North Khulshi, Khulshi, Chat...</td>\n",
       "      <td>Apartment</td>\n",
       "      <td>3</td>\n",
       "      <td>3</td>\n",
       "      <td>1750</td>\n",
       "      <td>Chattogram</td>\n",
       "      <td>8571.428571</td>\n",
       "    </tr>\n",
       "    <tr>\n",
       "      <th>9519</th>\n",
       "      <td>14300000.0</td>\n",
       "      <td>Nasirabad Housing Society, Muradpur, Chattogram</td>\n",
       "      <td>Apartment</td>\n",
       "      <td>3</td>\n",
       "      <td>4</td>\n",
       "      <td>1900</td>\n",
       "      <td>Chattogram</td>\n",
       "      <td>7526.315789</td>\n",
       "    </tr>\n",
       "    <tr>\n",
       "      <th>9520</th>\n",
       "      <td>18000000.0</td>\n",
       "      <td>Zakir Hossain Housing Society, South Khulshi, ...</td>\n",
       "      <td>Apartment</td>\n",
       "      <td>3</td>\n",
       "      <td>3</td>\n",
       "      <td>2286</td>\n",
       "      <td>Chattogram</td>\n",
       "      <td>7874.015748</td>\n",
       "    </tr>\n",
       "    <tr>\n",
       "      <th>9521</th>\n",
       "      <td>15500000.0</td>\n",
       "      <td>Mehidibag, 15 No. Bagmoniram Ward, Chattogram</td>\n",
       "      <td>Apartment</td>\n",
       "      <td>3</td>\n",
       "      <td>4</td>\n",
       "      <td>2350</td>\n",
       "      <td>Chattogram</td>\n",
       "      <td>6595.744681</td>\n",
       "    </tr>\n",
       "    <tr>\n",
       "      <th>...</th>\n",
       "      <td>...</td>\n",
       "      <td>...</td>\n",
       "      <td>...</td>\n",
       "      <td>...</td>\n",
       "      <td>...</td>\n",
       "      <td>...</td>\n",
       "      <td>...</td>\n",
       "      <td>...</td>\n",
       "    </tr>\n",
       "    <tr>\n",
       "      <th>10841</th>\n",
       "      <td>7200000.0</td>\n",
       "      <td>Road No 1, Block H, Halishahar Housing Estate,...</td>\n",
       "      <td>Apartment</td>\n",
       "      <td>3</td>\n",
       "      <td>3</td>\n",
       "      <td>1552</td>\n",
       "      <td>Chattogram</td>\n",
       "      <td>4639.175258</td>\n",
       "    </tr>\n",
       "    <tr>\n",
       "      <th>10842</th>\n",
       "      <td>3600000.0</td>\n",
       "      <td>Shantibag Residential Area, 24 No. North Agrab...</td>\n",
       "      <td>Apartment</td>\n",
       "      <td>2</td>\n",
       "      <td>2</td>\n",
       "      <td>1000</td>\n",
       "      <td>Chattogram</td>\n",
       "      <td>3600.000000</td>\n",
       "    </tr>\n",
       "    <tr>\n",
       "      <th>10843</th>\n",
       "      <td>6000000.0</td>\n",
       "      <td>Chandrima, Chandgaon Residential Area, 4 No Ch...</td>\n",
       "      <td>Apartment</td>\n",
       "      <td>3</td>\n",
       "      <td>3</td>\n",
       "      <td>1215</td>\n",
       "      <td>Chattogram</td>\n",
       "      <td>4938.271605</td>\n",
       "    </tr>\n",
       "    <tr>\n",
       "      <th>10844</th>\n",
       "      <td>7200000.0</td>\n",
       "      <td>Chattogram DOHS, Bayazid, Chattogram</td>\n",
       "      <td>Apartment</td>\n",
       "      <td>3</td>\n",
       "      <td>4</td>\n",
       "      <td>1350</td>\n",
       "      <td>Chattogram</td>\n",
       "      <td>5333.333333</td>\n",
       "    </tr>\n",
       "    <tr>\n",
       "      <th>10845</th>\n",
       "      <td>7000000.0</td>\n",
       "      <td>Lake Valley R/A, 9 No. North Pahartali Ward, C...</td>\n",
       "      <td>Apartment</td>\n",
       "      <td>3</td>\n",
       "      <td>3</td>\n",
       "      <td>1400</td>\n",
       "      <td>Chattogram</td>\n",
       "      <td>5000.000000</td>\n",
       "    </tr>\n",
       "  </tbody>\n",
       "</table>\n",
       "<p>1329 rows × 8 columns</p>\n",
       "</div>"
      ],
      "text/plain": [
       "            price                                            address  \\\n",
       "9517   13200000.0    Nasirabad Housing Society, Muradpur, Chattogram   \n",
       "9518   15000000.0  Khulshi Hill R/A, North Khulshi, Khulshi, Chat...   \n",
       "9519   14300000.0    Nasirabad Housing Society, Muradpur, Chattogram   \n",
       "9520   18000000.0  Zakir Hossain Housing Society, South Khulshi, ...   \n",
       "9521   15500000.0      Mehidibag, 15 No. Bagmoniram Ward, Chattogram   \n",
       "...           ...                                                ...   \n",
       "10841   7200000.0  Road No 1, Block H, Halishahar Housing Estate,...   \n",
       "10842   3600000.0  Shantibag Residential Area, 24 No. North Agrab...   \n",
       "10843   6000000.0  Chandrima, Chandgaon Residential Area, 4 No Ch...   \n",
       "10844   7200000.0               Chattogram DOHS, Bayazid, Chattogram   \n",
       "10845   7000000.0  Lake Valley R/A, 9 No. North Pahartali Ward, C...   \n",
       "\n",
       "            type  bed  bath  size    district         ppsf  \n",
       "9517   Apartment    3     4  1800  Chattogram  7333.333333  \n",
       "9518   Apartment    3     3  1750  Chattogram  8571.428571  \n",
       "9519   Apartment    3     4  1900  Chattogram  7526.315789  \n",
       "9520   Apartment    3     3  2286  Chattogram  7874.015748  \n",
       "9521   Apartment    3     4  2350  Chattogram  6595.744681  \n",
       "...          ...  ...   ...   ...         ...          ...  \n",
       "10841  Apartment    3     3  1552  Chattogram  4639.175258  \n",
       "10842  Apartment    2     2  1000  Chattogram  3600.000000  \n",
       "10843  Apartment    3     3  1215  Chattogram  4938.271605  \n",
       "10844  Apartment    3     4  1350  Chattogram  5333.333333  \n",
       "10845  Apartment    3     3  1400  Chattogram  5000.000000  \n",
       "\n",
       "[1329 rows x 8 columns]"
      ]
     },
     "execution_count": 71,
     "metadata": {},
     "output_type": "execute_result"
    }
   ],
   "source": [
    "df_apt_ctg"
   ]
  },
  {
   "cell_type": "code",
   "execution_count": 72,
   "id": "5da96696",
   "metadata": {},
   "outputs": [
    {
     "name": "stdout",
     "output_type": "stream",
     "text": [
      "5330.138688979778\n"
     ]
    }
   ],
   "source": [
    "print(df_apt_ctg['ppsf'].mean())"
   ]
  },
  {
   "cell_type": "code",
   "execution_count": 73,
   "id": "278e1dc6",
   "metadata": {},
   "outputs": [],
   "source": [
    "df_apt_nasirabad = df_apt_ctg[df_apt_ctg['address'].str.contains(\"Nasirabad\")]\n",
    "df_apt_agrabad = df_apt_ctg[df_apt_ctg['address'].str.contains(\"Agrabad\")]"
   ]
  },
  {
   "cell_type": "code",
   "execution_count": 74,
   "id": "abeb6560",
   "metadata": {},
   "outputs": [
    {
     "data": {
      "text/plain": [
       "6958.126377874967"
      ]
     },
     "execution_count": 74,
     "metadata": {},
     "output_type": "execute_result"
    }
   ],
   "source": [
    "df_apt_nasirabad['ppsf'].mean()"
   ]
  },
  {
   "cell_type": "code",
   "execution_count": 75,
   "id": "5e1eec79",
   "metadata": {},
   "outputs": [
    {
     "data": {
      "text/plain": [
       "4643.521449399763"
      ]
     },
     "execution_count": 75,
     "metadata": {},
     "output_type": "execute_result"
    }
   ],
   "source": [
    "df_apt_agrabad['ppsf'].mean()"
   ]
  },
  {
   "cell_type": "code",
   "execution_count": null,
   "id": "5403ce77",
   "metadata": {},
   "outputs": [],
   "source": []
  }
 ],
 "metadata": {
  "kernelspec": {
   "display_name": "Python 3",
   "language": "python",
   "name": "python3"
  },
  "language_info": {
   "codemirror_mode": {
    "name": "ipython",
    "version": 3
   },
   "file_extension": ".py",
   "mimetype": "text/x-python",
   "name": "python",
   "nbconvert_exporter": "python",
   "pygments_lexer": "ipython3",
   "version": "3.8.8"
  }
 },
 "nbformat": 4,
 "nbformat_minor": 5
}
